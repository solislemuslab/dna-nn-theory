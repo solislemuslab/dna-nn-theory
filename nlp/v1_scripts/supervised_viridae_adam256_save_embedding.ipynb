{
  "nbformat": 4,
  "nbformat_minor": 0,
  "metadata": {
    "colab": {
      "name": "supervised_viridae_adam256_save embedding.ipynb",
      "provenance": [],
      "collapsed_sections": [],
      "authorship_tag": "ABX9TyNWOUxO6/hG47MIQz0ZCbgf",
      "include_colab_link": true
    },
    "kernelspec": {
      "name": "python3",
      "display_name": "Python 3"
    },
    "accelerator": "GPU"
  },
  "cells": [
    {
      "cell_type": "markdown",
      "metadata": {
        "id": "view-in-github",
        "colab_type": "text"
      },
      "source": [
        "<a href=\"https://colab.research.google.com/github/csy99/dna-nn-theory/blob/master/supervised_viridae_adam256_save_embedding.ipynb\" target=\"_parent\"><img src=\"https://colab.research.google.com/assets/colab-badge.svg\" alt=\"Open In Colab\"/></a>"
      ]
    },
    {
      "cell_type": "code",
      "metadata": {
        "id": "FiSO3GWw8FWG"
      },
      "source": [
        "import numpy as np\n",
        "import pandas as pd\n",
        "import matplotlib\n",
        "import matplotlib.pyplot as plt\n",
        "from itertools import product\n",
        "import re\n",
        "import time\n",
        "import tensorflow as tf\n",
        "from tensorflow import keras"
      ],
      "execution_count": 1,
      "outputs": []
    },
    {
      "cell_type": "markdown",
      "metadata": {
        "id": "GuvNh5Ia8vvD"
      },
      "source": [
        "# Read Data"
      ]
    },
    {
      "cell_type": "code",
      "metadata": {
        "id": "H5SYc4iv-RPC",
        "outputId": "243e1c26-b9b4-491e-a9fd-0c1461eac108",
        "colab": {
          "base_uri": "https://localhost:8080/"
        }
      },
      "source": [
        "!pip install PyDrive\n",
        "from google.colab import drive\n",
        "drive.mount('/content/gdrive')"
      ],
      "execution_count": 2,
      "outputs": [
        {
          "output_type": "stream",
          "text": [
            "Requirement already satisfied: PyDrive in /usr/local/lib/python3.6/dist-packages (1.3.1)\n",
            "Requirement already satisfied: PyYAML>=3.0 in /usr/local/lib/python3.6/dist-packages (from PyDrive) (3.13)\n",
            "Requirement already satisfied: oauth2client>=4.0.0 in /usr/local/lib/python3.6/dist-packages (from PyDrive) (4.1.3)\n",
            "Requirement already satisfied: google-api-python-client>=1.2 in /usr/local/lib/python3.6/dist-packages (from PyDrive) (1.7.12)\n",
            "Requirement already satisfied: six>=1.6.1 in /usr/local/lib/python3.6/dist-packages (from oauth2client>=4.0.0->PyDrive) (1.15.0)\n",
            "Requirement already satisfied: pyasn1>=0.1.7 in /usr/local/lib/python3.6/dist-packages (from oauth2client>=4.0.0->PyDrive) (0.4.8)\n",
            "Requirement already satisfied: rsa>=3.1.4 in /usr/local/lib/python3.6/dist-packages (from oauth2client>=4.0.0->PyDrive) (4.6)\n",
            "Requirement already satisfied: pyasn1-modules>=0.0.5 in /usr/local/lib/python3.6/dist-packages (from oauth2client>=4.0.0->PyDrive) (0.2.8)\n",
            "Requirement already satisfied: httplib2>=0.9.1 in /usr/local/lib/python3.6/dist-packages (from oauth2client>=4.0.0->PyDrive) (0.17.4)\n",
            "Requirement already satisfied: google-auth-httplib2>=0.0.3 in /usr/local/lib/python3.6/dist-packages (from google-api-python-client>=1.2->PyDrive) (0.0.4)\n",
            "Requirement already satisfied: google-auth>=1.4.1 in /usr/local/lib/python3.6/dist-packages (from google-api-python-client>=1.2->PyDrive) (1.17.2)\n",
            "Requirement already satisfied: uritemplate<4dev,>=3.0.0 in /usr/local/lib/python3.6/dist-packages (from google-api-python-client>=1.2->PyDrive) (3.0.1)\n",
            "Requirement already satisfied: setuptools>=40.3.0 in /usr/local/lib/python3.6/dist-packages (from google-auth>=1.4.1->google-api-python-client>=1.2->PyDrive) (50.3.2)\n",
            "Requirement already satisfied: cachetools<5.0,>=2.0.0 in /usr/local/lib/python3.6/dist-packages (from google-auth>=1.4.1->google-api-python-client>=1.2->PyDrive) (4.1.1)\n",
            "Mounted at /content/gdrive\n"
          ],
          "name": "stdout"
        }
      ]
    },
    {
      "cell_type": "code",
      "metadata": {
        "id": "GTavNzohPEjl",
        "outputId": "024d5420-6e32-4ea9-f0c5-69b1938004d4",
        "colab": {
          "base_uri": "https://localhost:8080/",
          "height": 202
        }
      },
      "source": [
        "data_path = '/content/gdrive/My Drive/Colab Notebooks/viridae/'\n",
        "records_df = pd.read_csv(data_path + 'clean.csv')\n",
        "# replace all '-' with N (stands for any nt)\n",
        "records_df.seq = records_df.seq.str.replace('-', 'N')\n",
        "records_df.head()"
      ],
      "execution_count": 3,
      "outputs": [
        {
          "output_type": "execute_result",
          "data": {
            "text/html": [
              "<div>\n",
              "<style scoped>\n",
              "    .dataframe tbody tr th:only-of-type {\n",
              "        vertical-align: middle;\n",
              "    }\n",
              "\n",
              "    .dataframe tbody tr th {\n",
              "        vertical-align: top;\n",
              "    }\n",
              "\n",
              "    .dataframe thead th {\n",
              "        text-align: right;\n",
              "    }\n",
              "</style>\n",
              "<table border=\"1\" class=\"dataframe\">\n",
              "  <thead>\n",
              "    <tr style=\"text-align: right;\">\n",
              "      <th></th>\n",
              "      <th>id</th>\n",
              "      <th>seq</th>\n",
              "      <th>label</th>\n",
              "    </tr>\n",
              "  </thead>\n",
              "  <tbody>\n",
              "    <tr>\n",
              "      <th>0</th>\n",
              "      <td>NC_036588.1</td>\n",
              "      <td>NNNNNNNNNNNNNNNNNNNNNNNNNNNNNNNNNNNNNNNNNNNNNN...</td>\n",
              "      <td>0</td>\n",
              "    </tr>\n",
              "    <tr>\n",
              "      <th>1</th>\n",
              "      <td>NC_014412.1</td>\n",
              "      <td>NNNNNNNNNNNNNNNNNNNNNNNNNNNNNNNNNNNNNNNNNNNNNN...</td>\n",
              "      <td>0</td>\n",
              "    </tr>\n",
              "    <tr>\n",
              "      <th>2</th>\n",
              "      <td>NC_014413.1</td>\n",
              "      <td>GNNNNNNNNNNNNNNNNNNNNNNNNNNNNNNNNNNNNNNNNNNNNN...</td>\n",
              "      <td>0</td>\n",
              "    </tr>\n",
              "    <tr>\n",
              "      <th>3</th>\n",
              "      <td>NC_025890.1</td>\n",
              "      <td>NNNNNNNNNNNNNNNNNNNNNNNNNNNNNNNNNNNNNNNNNNNNNN...</td>\n",
              "      <td>0</td>\n",
              "    </tr>\n",
              "    <tr>\n",
              "      <th>4</th>\n",
              "      <td>NC_023162.1</td>\n",
              "      <td>NNNNNNNNNNNNNNNNNNNNNNNNNNNNNNNNNNNNNNNNNNNNNN...</td>\n",
              "      <td>0</td>\n",
              "    </tr>\n",
              "  </tbody>\n",
              "</table>\n",
              "</div>"
            ],
            "text/plain": [
              "            id                                                seq  label\n",
              "0  NC_036588.1  NNNNNNNNNNNNNNNNNNNNNNNNNNNNNNNNNNNNNNNNNNNNNN...      0\n",
              "1  NC_014412.1  NNNNNNNNNNNNNNNNNNNNNNNNNNNNNNNNNNNNNNNNNNNNNN...      0\n",
              "2  NC_014413.1  GNNNNNNNNNNNNNNNNNNNNNNNNNNNNNNNNNNNNNNNNNNNNN...      0\n",
              "3  NC_025890.1  NNNNNNNNNNNNNNNNNNNNNNNNNNNNNNNNNNNNNNNNNNNNNN...      0\n",
              "4  NC_023162.1  NNNNNNNNNNNNNNNNNNNNNNNNNNNNNNNNNNNNNNNNNNNNNN...      0"
            ]
          },
          "metadata": {
            "tags": []
          },
          "execution_count": 3
        }
      ]
    },
    {
      "cell_type": "code",
      "metadata": {
        "id": "h_IFMicpqYIl",
        "outputId": "25942701-b76f-49fa-a3cf-6cd38b3d6e52",
        "colab": {
          "base_uri": "https://localhost:8080/"
        }
      },
      "source": [
        "seq_num = 0\n",
        "for seq in records_df[\"seq\"]:\n",
        "  char_num = 0\n",
        "  for char in seq:\n",
        "    if char != 'A' and char != 'C' and char != 'T' and char != 'G' and char != 'N':\n",
        "      print(\"seq\", seq_num, 'char', char_num, 'is', char)\n",
        "    char_num += 1\n",
        "  seq_num += 1"
      ],
      "execution_count": 4,
      "outputs": [
        {
          "output_type": "stream",
          "text": [
            "seq 67 char 3290 is R\n",
            "seq 67 char 3858 is R\n",
            "seq 82 char 1766 is Y\n",
            "seq 241 char 2298 is R\n"
          ],
          "name": "stdout"
        }
      ]
    },
    {
      "cell_type": "code",
      "metadata": {
        "id": "myCtGYFV37Re"
      },
      "source": [
        "records_df.seq = records_df.seq.str.replace('R', 'N')\n",
        "records_df.seq = records_df.seq.str.replace('Y', 'N')"
      ],
      "execution_count": 5,
      "outputs": []
    },
    {
      "cell_type": "code",
      "metadata": {
        "id": "lSFFjXSJP88L",
        "outputId": "c4e65d98-57da-4185-975d-17f0ca7cb1e2",
        "colab": {
          "base_uri": "https://localhost:8080/"
        }
      },
      "source": [
        "# check if the length of the sequence is the same \n",
        "seq_len = len(records_df.seq[0])\n",
        "print(\"The length of the sequence is\", seq_len)\n",
        "for seq in records_df.seq[:200]:\n",
        "  assert len(seq) == seq_len"
      ],
      "execution_count": 6,
      "outputs": [
        {
          "output_type": "stream",
          "text": [
            "The length of the sequence is 4132\n"
          ],
          "name": "stdout"
        }
      ]
    },
    {
      "cell_type": "code",
      "metadata": {
        "id": "DiHtYnLfkcrz",
        "outputId": "4219946b-9d3c-4abb-84c6-4b918269b439",
        "colab": {
          "base_uri": "https://localhost:8080/"
        }
      },
      "source": [
        "from sklearn.model_selection import train_test_split\n",
        "from sklearn.manifold import TSNE\n",
        "xtrain_full, xtest, ytrain_full, ytest = train_test_split(records_df, records_df.label, test_size=0.2, random_state=100, stratify=records_df.label)\n",
        "xtrain, xval, ytrain, yval = train_test_split(xtrain_full, ytrain_full, test_size=0.2, random_state=100, stratify=ytrain_full)\n",
        "print(\"shape of training, validation, test set\\n\", xtrain.shape, xval.shape, xtest.shape, ytrain.shape, yval.shape, ytest.shape)"
      ],
      "execution_count": 7,
      "outputs": [
        {
          "output_type": "stream",
          "text": [
            "shape of training, validation, test set\n",
            " (179, 3) (45, 3) (57, 3) (179,) (45,) (57,)\n"
          ],
          "name": "stdout"
        }
      ]
    },
    {
      "cell_type": "code",
      "metadata": {
        "id": "W2h9sGLCVtDn",
        "outputId": "53e11785-e33e-4c28-dfa3-212c69e7b567",
        "colab": {
          "base_uri": "https://localhost:8080/"
        }
      },
      "source": [
        "word_size = 1\n",
        "vocab = [''.join(p) for p in product('ACGTN', repeat=word_size)]\n",
        "# word_to_idx = {word: i for i, word in enumerate(vocab)}\n",
        "vocab_size = 5\n",
        "print('vocab_size:', vocab_size)\n",
        "# print(\"word_to_idx\", word_to_idx)\n",
        "create1gram = keras.layers.experimental.preprocessing.TextVectorization(\n",
        "  standardize=lambda x: tf.strings.regex_replace(x, '(.)', '\\\\1 '), ngrams=1\n",
        ")\n",
        "create1gram.adapt(vocab)"
      ],
      "execution_count": 8,
      "outputs": [
        {
          "output_type": "stream",
          "text": [
            "vocab_size: 5\n"
          ],
          "name": "stdout"
        }
      ]
    },
    {
      "cell_type": "code",
      "metadata": {
        "id": "EHPvs2BCU_Mk"
      },
      "source": [
        "def ds_preprocess(x, y):\n",
        "  x_index = tf.subtract(create1gram(x), 2)\n",
        "  return x_index, y"
      ],
      "execution_count": 9,
      "outputs": []
    },
    {
      "cell_type": "code",
      "metadata": {
        "id": "TFvsJkEa0YuT",
        "outputId": "cf63b1b7-a01e-4fc1-ec63-360387f9ce9d",
        "colab": {
          "base_uri": "https://localhost:8080/",
          "height": 35
        }
      },
      "source": [
        "# not sure the correct way to get mapping from word to its index\n",
        "create1gram('A C G T N') - 2"
      ],
      "execution_count": null,
      "outputs": [
        {
          "output_type": "execute_result",
          "data": {
            "text/plain": [
              "<tf.Tensor: shape=(5,), dtype=int64, numpy=array([4, 3, 2, 0, 1])>"
            ]
          },
          "metadata": {
            "tags": []
          },
          "execution_count": 21
        }
      ]
    },
    {
      "cell_type": "code",
      "metadata": {
        "id": "jzLRmqEjSitl"
      },
      "source": [
        "BATCH_SIZE = 256\n",
        "xtrain_ds = tf.data.Dataset.from_tensor_slices((xtrain['seq'], ytrain)).map(ds_preprocess).batch(BATCH_SIZE)\n",
        "xval_ds = tf.data.Dataset.from_tensor_slices((xval['seq'], yval)).map(ds_preprocess).batch(BATCH_SIZE)\n",
        "xtest_ds = tf.data.Dataset.from_tensor_slices((xtest['seq'], ytest)).map(ds_preprocess).batch(BATCH_SIZE)"
      ],
      "execution_count": 10,
      "outputs": []
    },
    {
      "cell_type": "code",
      "metadata": {
        "id": "gVLaIchQUWQl",
        "outputId": "7c6c3cae-cc98-4959-8554-9f54ba895f65",
        "colab": {
          "base_uri": "https://localhost:8080/"
        }
      },
      "source": [
        "latent_size = 256\n",
        "\n",
        "model = keras.Sequential([\n",
        "    keras.Input(shape=(seq_len,)),\n",
        "    keras.layers.Embedding(seq_len, latent_size),\n",
        "    keras.layers.LSTM(latent_size, return_sequences=False),\n",
        "    keras.layers.Dense(128, activation=\"relu\"),\n",
        "    keras.layers.Dropout(0.2),\n",
        "    keras.layers.Dense(64, activation=\"relu\"),    \n",
        "    keras.layers.Dropout(0.2),\n",
        "    keras.layers.Dense(32, activation=\"relu\"),  \n",
        "    keras.layers.Dropout(0.2), \n",
        "    keras.layers.Dense(16, activation=\"relu\"), \n",
        "    keras.layers.Dropout(0.2),   \n",
        "    keras.layers.Dense(1, activation=\"sigmoid\")                               \n",
        "])\n",
        "model.summary()"
      ],
      "execution_count": 11,
      "outputs": [
        {
          "output_type": "stream",
          "text": [
            "Model: \"sequential\"\n",
            "_________________________________________________________________\n",
            "Layer (type)                 Output Shape              Param #   \n",
            "=================================================================\n",
            "embedding (Embedding)        (None, 4132, 256)         1057792   \n",
            "_________________________________________________________________\n",
            "lstm (LSTM)                  (None, 256)               525312    \n",
            "_________________________________________________________________\n",
            "dense (Dense)                (None, 128)               32896     \n",
            "_________________________________________________________________\n",
            "dropout (Dropout)            (None, 128)               0         \n",
            "_________________________________________________________________\n",
            "dense_1 (Dense)              (None, 64)                8256      \n",
            "_________________________________________________________________\n",
            "dropout_1 (Dropout)          (None, 64)                0         \n",
            "_________________________________________________________________\n",
            "dense_2 (Dense)              (None, 32)                2080      \n",
            "_________________________________________________________________\n",
            "dropout_2 (Dropout)          (None, 32)                0         \n",
            "_________________________________________________________________\n",
            "dense_3 (Dense)              (None, 16)                528       \n",
            "_________________________________________________________________\n",
            "dropout_3 (Dropout)          (None, 16)                0         \n",
            "_________________________________________________________________\n",
            "dense_4 (Dense)              (None, 1)                 17        \n",
            "=================================================================\n",
            "Total params: 1,626,881\n",
            "Trainable params: 1,626,881\n",
            "Non-trainable params: 0\n",
            "_________________________________________________________________\n"
          ],
          "name": "stdout"
        }
      ]
    },
    {
      "cell_type": "code",
      "metadata": {
        "id": "VMlnaNStWLNK",
        "outputId": "6139b7df-7c42-493f-c529-d133a3d2e6b1",
        "colab": {
          "base_uri": "https://localhost:8080/"
        }
      },
      "source": [
        "model.compile(optimizer=tf.optimizers.Adam(), loss=tf.losses.BinaryCrossentropy(), metrics='accuracy')\n",
        "es_cb = keras.callbacks.EarlyStopping(patience=100, restore_best_weights=True)\n",
        "hist = model.fit(xtrain_ds, validation_data=xval_ds, epochs=4000, callbacks=[es_cb])"
      ],
      "execution_count": 12,
      "outputs": [
        {
          "output_type": "stream",
          "text": [
            "Epoch 1/4000\n",
            "1/1 [==============================] - 1s 676ms/step - loss: 0.6927 - accuracy: 0.5419 - val_loss: 0.6916 - val_accuracy: 0.5333\n",
            "Epoch 2/4000\n",
            "1/1 [==============================] - 0s 286ms/step - loss: 0.6905 - accuracy: 0.5475 - val_loss: 0.6911 - val_accuracy: 0.5333\n",
            "Epoch 3/4000\n",
            "1/1 [==============================] - 0s 294ms/step - loss: 0.6931 - accuracy: 0.5251 - val_loss: 0.6909 - val_accuracy: 0.5333\n",
            "Epoch 4/4000\n",
            "1/1 [==============================] - 0s 280ms/step - loss: 0.6908 - accuracy: 0.5531 - val_loss: 0.6910 - val_accuracy: 0.5333\n",
            "Epoch 5/4000\n",
            "1/1 [==============================] - 0s 279ms/step - loss: 0.6870 - accuracy: 0.5196 - val_loss: 0.6913 - val_accuracy: 0.5333\n",
            "Epoch 6/4000\n",
            "1/1 [==============================] - 0s 290ms/step - loss: 0.7044 - accuracy: 0.4749 - val_loss: 0.6909 - val_accuracy: 0.5333\n",
            "Epoch 7/4000\n",
            "1/1 [==============================] - 0s 283ms/step - loss: 0.6893 - accuracy: 0.5307 - val_loss: 0.6910 - val_accuracy: 0.5333\n",
            "Epoch 8/4000\n",
            "1/1 [==============================] - 0s 295ms/step - loss: 0.6946 - accuracy: 0.4916 - val_loss: 0.6911 - val_accuracy: 0.5333\n",
            "Epoch 9/4000\n",
            "1/1 [==============================] - 0s 284ms/step - loss: 0.6929 - accuracy: 0.5251 - val_loss: 0.6913 - val_accuracy: 0.5333\n",
            "Epoch 10/4000\n",
            "1/1 [==============================] - 0s 290ms/step - loss: 0.6913 - accuracy: 0.5196 - val_loss: 0.6915 - val_accuracy: 0.5333\n",
            "Epoch 11/4000\n",
            "1/1 [==============================] - 0s 293ms/step - loss: 0.6924 - accuracy: 0.5307 - val_loss: 0.6914 - val_accuracy: 0.5333\n",
            "Epoch 12/4000\n",
            "1/1 [==============================] - 0s 289ms/step - loss: 0.6947 - accuracy: 0.5363 - val_loss: 0.6915 - val_accuracy: 0.5333\n",
            "Epoch 13/4000\n",
            "1/1 [==============================] - 0s 289ms/step - loss: 0.6890 - accuracy: 0.5363 - val_loss: 0.6914 - val_accuracy: 0.5333\n",
            "Epoch 14/4000\n",
            "1/1 [==============================] - 0s 289ms/step - loss: 0.6886 - accuracy: 0.5196 - val_loss: 0.6912 - val_accuracy: 0.5333\n",
            "Epoch 15/4000\n",
            "1/1 [==============================] - 0s 284ms/step - loss: 0.6923 - accuracy: 0.5363 - val_loss: 0.6911 - val_accuracy: 0.5333\n",
            "Epoch 16/4000\n",
            "1/1 [==============================] - 0s 296ms/step - loss: 0.6920 - accuracy: 0.5531 - val_loss: 0.6910 - val_accuracy: 0.5333\n",
            "Epoch 17/4000\n",
            "1/1 [==============================] - 0s 286ms/step - loss: 0.6920 - accuracy: 0.5419 - val_loss: 0.6909 - val_accuracy: 0.5333\n",
            "Epoch 18/4000\n",
            "1/1 [==============================] - 0s 290ms/step - loss: 0.6912 - accuracy: 0.5307 - val_loss: 0.6909 - val_accuracy: 0.5333\n",
            "Epoch 19/4000\n",
            "1/1 [==============================] - 0s 294ms/step - loss: 0.6862 - accuracy: 0.5475 - val_loss: 0.6909 - val_accuracy: 0.5333\n",
            "Epoch 20/4000\n",
            "1/1 [==============================] - 0s 286ms/step - loss: 0.6922 - accuracy: 0.5475 - val_loss: 0.6909 - val_accuracy: 0.5333\n",
            "Epoch 21/4000\n",
            "1/1 [==============================] - 0s 288ms/step - loss: 0.6860 - accuracy: 0.5419 - val_loss: 0.6910 - val_accuracy: 0.5333\n",
            "Epoch 22/4000\n",
            "1/1 [==============================] - 0s 294ms/step - loss: 0.6893 - accuracy: 0.5531 - val_loss: 0.6910 - val_accuracy: 0.5333\n",
            "Epoch 23/4000\n",
            "1/1 [==============================] - 0s 288ms/step - loss: 0.6944 - accuracy: 0.5196 - val_loss: 0.6910 - val_accuracy: 0.5333\n",
            "Epoch 24/4000\n",
            "1/1 [==============================] - 0s 287ms/step - loss: 0.6880 - accuracy: 0.5307 - val_loss: 0.6910 - val_accuracy: 0.5333\n",
            "Epoch 25/4000\n",
            "1/1 [==============================] - 0s 287ms/step - loss: 0.6959 - accuracy: 0.5196 - val_loss: 0.6910 - val_accuracy: 0.5333\n",
            "Epoch 26/4000\n",
            "1/1 [==============================] - 0s 298ms/step - loss: 0.6921 - accuracy: 0.5475 - val_loss: 0.6909 - val_accuracy: 0.5333\n",
            "Epoch 27/4000\n",
            "1/1 [==============================] - 0s 285ms/step - loss: 0.6915 - accuracy: 0.5196 - val_loss: 0.6910 - val_accuracy: 0.5333\n",
            "Epoch 28/4000\n",
            "1/1 [==============================] - 0s 289ms/step - loss: 0.6932 - accuracy: 0.5363 - val_loss: 0.6910 - val_accuracy: 0.5333\n",
            "Epoch 29/4000\n",
            "1/1 [==============================] - 0s 285ms/step - loss: 0.6899 - accuracy: 0.5028 - val_loss: 0.6910 - val_accuracy: 0.5333\n",
            "Epoch 30/4000\n",
            "1/1 [==============================] - 0s 294ms/step - loss: 0.6903 - accuracy: 0.5419 - val_loss: 0.6910 - val_accuracy: 0.5333\n",
            "Epoch 31/4000\n",
            "1/1 [==============================] - 0s 290ms/step - loss: 0.6894 - accuracy: 0.5419 - val_loss: 0.6910 - val_accuracy: 0.5333\n",
            "Epoch 32/4000\n",
            "1/1 [==============================] - 0s 300ms/step - loss: 0.6901 - accuracy: 0.5419 - val_loss: 0.6910 - val_accuracy: 0.5333\n",
            "Epoch 33/4000\n",
            "1/1 [==============================] - 0s 288ms/step - loss: 0.6899 - accuracy: 0.5419 - val_loss: 0.6909 - val_accuracy: 0.5333\n",
            "Epoch 34/4000\n",
            "1/1 [==============================] - 0s 305ms/step - loss: 0.6863 - accuracy: 0.5419 - val_loss: 0.6909 - val_accuracy: 0.5333\n",
            "Epoch 35/4000\n",
            "1/1 [==============================] - 0s 286ms/step - loss: 0.6891 - accuracy: 0.5419 - val_loss: 0.6909 - val_accuracy: 0.5333\n",
            "Epoch 36/4000\n",
            "1/1 [==============================] - 0s 289ms/step - loss: 0.6866 - accuracy: 0.5419 - val_loss: 0.6910 - val_accuracy: 0.5333\n",
            "Epoch 37/4000\n",
            "1/1 [==============================] - 0s 287ms/step - loss: 0.6956 - accuracy: 0.5419 - val_loss: 0.6911 - val_accuracy: 0.5333\n",
            "Epoch 38/4000\n",
            "1/1 [==============================] - 0s 289ms/step - loss: 0.6854 - accuracy: 0.5419 - val_loss: 0.6911 - val_accuracy: 0.5333\n",
            "Epoch 39/4000\n",
            "1/1 [==============================] - 0s 291ms/step - loss: 0.6884 - accuracy: 0.5419 - val_loss: 0.6912 - val_accuracy: 0.5333\n",
            "Epoch 40/4000\n",
            "1/1 [==============================] - 0s 287ms/step - loss: 0.6933 - accuracy: 0.5419 - val_loss: 0.6912 - val_accuracy: 0.5333\n",
            "Epoch 41/4000\n",
            "1/1 [==============================] - 0s 290ms/step - loss: 0.6945 - accuracy: 0.5251 - val_loss: 0.6911 - val_accuracy: 0.5333\n",
            "Epoch 42/4000\n",
            "1/1 [==============================] - 0s 288ms/step - loss: 0.6896 - accuracy: 0.5363 - val_loss: 0.6910 - val_accuracy: 0.5333\n",
            "Epoch 43/4000\n",
            "1/1 [==============================] - 0s 281ms/step - loss: 0.6954 - accuracy: 0.5419 - val_loss: 0.6910 - val_accuracy: 0.5333\n",
            "Epoch 44/4000\n",
            "1/1 [==============================] - 0s 289ms/step - loss: 0.6921 - accuracy: 0.5475 - val_loss: 0.6909 - val_accuracy: 0.5333\n",
            "Epoch 45/4000\n",
            "1/1 [==============================] - 0s 289ms/step - loss: 0.6882 - accuracy: 0.5419 - val_loss: 0.6909 - val_accuracy: 0.5333\n",
            "Epoch 46/4000\n",
            "1/1 [==============================] - 0s 293ms/step - loss: 0.6919 - accuracy: 0.5419 - val_loss: 0.6909 - val_accuracy: 0.5333\n",
            "Epoch 47/4000\n",
            "1/1 [==============================] - 0s 296ms/step - loss: 0.6893 - accuracy: 0.5475 - val_loss: 0.6909 - val_accuracy: 0.5333\n",
            "Epoch 48/4000\n",
            "1/1 [==============================] - 0s 290ms/step - loss: 0.6876 - accuracy: 0.5363 - val_loss: 0.6909 - val_accuracy: 0.5333\n",
            "Epoch 49/4000\n",
            "1/1 [==============================] - 0s 282ms/step - loss: 0.6913 - accuracy: 0.5419 - val_loss: 0.6909 - val_accuracy: 0.5333\n",
            "Epoch 50/4000\n",
            "1/1 [==============================] - 0s 288ms/step - loss: 0.6931 - accuracy: 0.5419 - val_loss: 0.6909 - val_accuracy: 0.5333\n",
            "Epoch 51/4000\n",
            "1/1 [==============================] - 0s 299ms/step - loss: 0.6890 - accuracy: 0.5419 - val_loss: 0.6909 - val_accuracy: 0.5333\n",
            "Epoch 52/4000\n",
            "1/1 [==============================] - 0s 282ms/step - loss: 0.6903 - accuracy: 0.5419 - val_loss: 0.6909 - val_accuracy: 0.5333\n",
            "Epoch 53/4000\n",
            "1/1 [==============================] - 0s 298ms/step - loss: 0.6900 - accuracy: 0.5419 - val_loss: 0.6909 - val_accuracy: 0.5333\n",
            "Epoch 54/4000\n",
            "1/1 [==============================] - 0s 285ms/step - loss: 0.6919 - accuracy: 0.5419 - val_loss: 0.6909 - val_accuracy: 0.5333\n",
            "Epoch 55/4000\n",
            "1/1 [==============================] - 0s 289ms/step - loss: 0.6908 - accuracy: 0.5419 - val_loss: 0.6909 - val_accuracy: 0.5333\n",
            "Epoch 56/4000\n",
            "1/1 [==============================] - 0s 289ms/step - loss: 0.6872 - accuracy: 0.5419 - val_loss: 0.6909 - val_accuracy: 0.5333\n",
            "Epoch 57/4000\n",
            "1/1 [==============================] - 0s 290ms/step - loss: 0.6922 - accuracy: 0.5419 - val_loss: 0.6910 - val_accuracy: 0.5333\n",
            "Epoch 58/4000\n",
            "1/1 [==============================] - 0s 293ms/step - loss: 0.6902 - accuracy: 0.5419 - val_loss: 0.6910 - val_accuracy: 0.5333\n",
            "Epoch 59/4000\n",
            "1/1 [==============================] - 0s 289ms/step - loss: 0.6932 - accuracy: 0.5419 - val_loss: 0.6909 - val_accuracy: 0.5333\n",
            "Epoch 60/4000\n",
            "1/1 [==============================] - 0s 291ms/step - loss: 0.6909 - accuracy: 0.5419 - val_loss: 0.6909 - val_accuracy: 0.5333\n",
            "Epoch 61/4000\n",
            "1/1 [==============================] - 0s 294ms/step - loss: 0.6893 - accuracy: 0.5419 - val_loss: 0.6909 - val_accuracy: 0.5333\n",
            "Epoch 62/4000\n",
            "1/1 [==============================] - 0s 304ms/step - loss: 0.6920 - accuracy: 0.5419 - val_loss: 0.6909 - val_accuracy: 0.5333\n",
            "Epoch 63/4000\n",
            "1/1 [==============================] - 0s 297ms/step - loss: 0.6904 - accuracy: 0.5419 - val_loss: 0.6909 - val_accuracy: 0.5333\n",
            "Epoch 64/4000\n",
            "1/1 [==============================] - 0s 292ms/step - loss: 0.6915 - accuracy: 0.5419 - val_loss: 0.6909 - val_accuracy: 0.5333\n",
            "Epoch 65/4000\n",
            "1/1 [==============================] - 0s 307ms/step - loss: 0.6934 - accuracy: 0.5419 - val_loss: 0.6909 - val_accuracy: 0.5333\n",
            "Epoch 66/4000\n",
            "1/1 [==============================] - 0s 294ms/step - loss: 0.6898 - accuracy: 0.5419 - val_loss: 0.6909 - val_accuracy: 0.5333\n",
            "Epoch 67/4000\n",
            "1/1 [==============================] - 0s 289ms/step - loss: 0.6902 - accuracy: 0.5419 - val_loss: 0.6909 - val_accuracy: 0.5333\n",
            "Epoch 68/4000\n",
            "1/1 [==============================] - 0s 286ms/step - loss: 0.6887 - accuracy: 0.5419 - val_loss: 0.6909 - val_accuracy: 0.5333\n",
            "Epoch 69/4000\n",
            "1/1 [==============================] - 0s 299ms/step - loss: 0.6898 - accuracy: 0.5419 - val_loss: 0.6909 - val_accuracy: 0.5333\n",
            "Epoch 70/4000\n",
            "1/1 [==============================] - 0s 295ms/step - loss: 0.6905 - accuracy: 0.5419 - val_loss: 0.6909 - val_accuracy: 0.5333\n",
            "Epoch 71/4000\n",
            "1/1 [==============================] - 0s 288ms/step - loss: 0.6909 - accuracy: 0.5419 - val_loss: 0.6910 - val_accuracy: 0.5333\n",
            "Epoch 72/4000\n",
            "1/1 [==============================] - 0s 298ms/step - loss: 0.6882 - accuracy: 0.5419 - val_loss: 0.6910 - val_accuracy: 0.5333\n",
            "Epoch 73/4000\n",
            "1/1 [==============================] - 0s 287ms/step - loss: 0.6878 - accuracy: 0.5419 - val_loss: 0.6912 - val_accuracy: 0.5333\n",
            "Epoch 74/4000\n",
            "1/1 [==============================] - 0s 288ms/step - loss: 0.6927 - accuracy: 0.5419 - val_loss: 0.6912 - val_accuracy: 0.5333\n",
            "Epoch 75/4000\n",
            "1/1 [==============================] - 0s 296ms/step - loss: 0.6893 - accuracy: 0.5419 - val_loss: 0.6911 - val_accuracy: 0.5333\n",
            "Epoch 76/4000\n",
            "1/1 [==============================] - 0s 286ms/step - loss: 0.6943 - accuracy: 0.5419 - val_loss: 0.6910 - val_accuracy: 0.5333\n",
            "Epoch 77/4000\n",
            "1/1 [==============================] - 0s 292ms/step - loss: 0.6926 - accuracy: 0.5419 - val_loss: 0.6909 - val_accuracy: 0.5333\n",
            "Epoch 78/4000\n",
            "1/1 [==============================] - 0s 293ms/step - loss: 0.6918 - accuracy: 0.5419 - val_loss: 0.6909 - val_accuracy: 0.5333\n",
            "Epoch 79/4000\n",
            "1/1 [==============================] - 0s 287ms/step - loss: 0.6908 - accuracy: 0.5419 - val_loss: 0.6909 - val_accuracy: 0.5333\n",
            "Epoch 80/4000\n",
            "1/1 [==============================] - 0s 298ms/step - loss: 0.6923 - accuracy: 0.5419 - val_loss: 0.6910 - val_accuracy: 0.5333\n",
            "Epoch 81/4000\n",
            "1/1 [==============================] - 0s 296ms/step - loss: 0.6906 - accuracy: 0.5419 - val_loss: 0.6910 - val_accuracy: 0.5333\n",
            "Epoch 82/4000\n",
            "1/1 [==============================] - 0s 299ms/step - loss: 0.6891 - accuracy: 0.5419 - val_loss: 0.6910 - val_accuracy: 0.5333\n",
            "Epoch 83/4000\n",
            "1/1 [==============================] - 0s 297ms/step - loss: 0.6920 - accuracy: 0.5419 - val_loss: 0.6910 - val_accuracy: 0.5333\n",
            "Epoch 84/4000\n",
            "1/1 [==============================] - 0s 291ms/step - loss: 0.6910 - accuracy: 0.5419 - val_loss: 0.6910 - val_accuracy: 0.5333\n",
            "Epoch 85/4000\n",
            "1/1 [==============================] - 0s 291ms/step - loss: 0.6904 - accuracy: 0.5419 - val_loss: 0.6910 - val_accuracy: 0.5333\n",
            "Epoch 86/4000\n",
            "1/1 [==============================] - 0s 294ms/step - loss: 0.6911 - accuracy: 0.5419 - val_loss: 0.6910 - val_accuracy: 0.5333\n",
            "Epoch 87/4000\n",
            "1/1 [==============================] - 0s 292ms/step - loss: 0.6904 - accuracy: 0.5419 - val_loss: 0.6909 - val_accuracy: 0.5333\n",
            "Epoch 88/4000\n",
            "1/1 [==============================] - 0s 291ms/step - loss: 0.6894 - accuracy: 0.5419 - val_loss: 0.6909 - val_accuracy: 0.5333\n",
            "Epoch 89/4000\n",
            "1/1 [==============================] - 0s 298ms/step - loss: 0.6909 - accuracy: 0.5419 - val_loss: 0.6909 - val_accuracy: 0.5333\n",
            "Epoch 90/4000\n",
            "1/1 [==============================] - 0s 293ms/step - loss: 0.6909 - accuracy: 0.5419 - val_loss: 0.6909 - val_accuracy: 0.5333\n",
            "Epoch 91/4000\n",
            "1/1 [==============================] - 0s 282ms/step - loss: 0.6906 - accuracy: 0.5419 - val_loss: 0.6909 - val_accuracy: 0.5333\n",
            "Epoch 92/4000\n",
            "1/1 [==============================] - 0s 286ms/step - loss: 0.6911 - accuracy: 0.5419 - val_loss: 0.6909 - val_accuracy: 0.5333\n",
            "Epoch 93/4000\n",
            "1/1 [==============================] - 0s 290ms/step - loss: 0.6917 - accuracy: 0.5419 - val_loss: 0.6909 - val_accuracy: 0.5333\n",
            "Epoch 94/4000\n",
            "1/1 [==============================] - 0s 290ms/step - loss: 0.6901 - accuracy: 0.5419 - val_loss: 0.6910 - val_accuracy: 0.5333\n",
            "Epoch 95/4000\n",
            "1/1 [==============================] - 0s 298ms/step - loss: 0.6904 - accuracy: 0.5419 - val_loss: 0.6910 - val_accuracy: 0.5333\n",
            "Epoch 96/4000\n",
            "1/1 [==============================] - 0s 297ms/step - loss: 0.6920 - accuracy: 0.5419 - val_loss: 0.6910 - val_accuracy: 0.5333\n",
            "Epoch 97/4000\n",
            "1/1 [==============================] - 0s 297ms/step - loss: 0.6903 - accuracy: 0.5419 - val_loss: 0.6910 - val_accuracy: 0.5333\n",
            "Epoch 98/4000\n",
            "1/1 [==============================] - 0s 294ms/step - loss: 0.6905 - accuracy: 0.5419 - val_loss: 0.6910 - val_accuracy: 0.5333\n",
            "Epoch 99/4000\n",
            "1/1 [==============================] - 0s 296ms/step - loss: 0.6917 - accuracy: 0.5419 - val_loss: 0.6910 - val_accuracy: 0.5333\n",
            "Epoch 100/4000\n",
            "1/1 [==============================] - 0s 295ms/step - loss: 0.6886 - accuracy: 0.5419 - val_loss: 0.6909 - val_accuracy: 0.5333\n",
            "Epoch 101/4000\n",
            "1/1 [==============================] - 0s 287ms/step - loss: 0.6900 - accuracy: 0.5419 - val_loss: 0.6909 - val_accuracy: 0.5333\n",
            "Epoch 102/4000\n",
            "1/1 [==============================] - 0s 293ms/step - loss: 0.6904 - accuracy: 0.5419 - val_loss: 0.6909 - val_accuracy: 0.5333\n",
            "Epoch 103/4000\n",
            "1/1 [==============================] - 0s 296ms/step - loss: 0.6902 - accuracy: 0.5419 - val_loss: 0.6910 - val_accuracy: 0.5333\n",
            "Epoch 104/4000\n",
            "1/1 [==============================] - 0s 304ms/step - loss: 0.6914 - accuracy: 0.5419 - val_loss: 0.6910 - val_accuracy: 0.5333\n",
            "Epoch 105/4000\n",
            "1/1 [==============================] - 0s 302ms/step - loss: 0.6894 - accuracy: 0.5419 - val_loss: 0.6910 - val_accuracy: 0.5333\n",
            "Epoch 106/4000\n",
            "1/1 [==============================] - 0s 303ms/step - loss: 0.6909 - accuracy: 0.5419 - val_loss: 0.6910 - val_accuracy: 0.5333\n",
            "Epoch 107/4000\n",
            "1/1 [==============================] - 0s 294ms/step - loss: 0.6885 - accuracy: 0.5419 - val_loss: 0.6910 - val_accuracy: 0.5333\n",
            "Epoch 108/4000\n",
            "1/1 [==============================] - 0s 297ms/step - loss: 0.6893 - accuracy: 0.5419 - val_loss: 0.6910 - val_accuracy: 0.5333\n",
            "Epoch 109/4000\n",
            "1/1 [==============================] - 0s 308ms/step - loss: 0.6893 - accuracy: 0.5419 - val_loss: 0.6910 - val_accuracy: 0.5333\n",
            "Epoch 110/4000\n",
            "1/1 [==============================] - 0s 294ms/step - loss: 0.6910 - accuracy: 0.5419 - val_loss: 0.6910 - val_accuracy: 0.5333\n",
            "Epoch 111/4000\n",
            "1/1 [==============================] - 0s 299ms/step - loss: 0.6900 - accuracy: 0.5419 - val_loss: 0.6910 - val_accuracy: 0.5333\n",
            "Epoch 112/4000\n",
            "1/1 [==============================] - 0s 300ms/step - loss: 0.6890 - accuracy: 0.5419 - val_loss: 0.6910 - val_accuracy: 0.5333\n",
            "Epoch 113/4000\n",
            "1/1 [==============================] - 0s 293ms/step - loss: 0.6883 - accuracy: 0.5419 - val_loss: 0.6910 - val_accuracy: 0.5333\n",
            "Epoch 114/4000\n",
            "1/1 [==============================] - 0s 292ms/step - loss: 0.6881 - accuracy: 0.5419 - val_loss: 0.6910 - val_accuracy: 0.5333\n",
            "Epoch 115/4000\n",
            "1/1 [==============================] - 0s 290ms/step - loss: 0.6899 - accuracy: 0.5419 - val_loss: 0.6910 - val_accuracy: 0.5333\n",
            "Epoch 116/4000\n",
            "1/1 [==============================] - 0s 295ms/step - loss: 0.6860 - accuracy: 0.5419 - val_loss: 0.6910 - val_accuracy: 0.5333\n",
            "Epoch 117/4000\n",
            "1/1 [==============================] - 0s 293ms/step - loss: 0.6891 - accuracy: 0.5419 - val_loss: 0.6910 - val_accuracy: 0.5333\n",
            "Epoch 118/4000\n",
            "1/1 [==============================] - 0s 291ms/step - loss: 0.6874 - accuracy: 0.5419 - val_loss: 0.6911 - val_accuracy: 0.5333\n",
            "Epoch 119/4000\n",
            "1/1 [==============================] - 0s 310ms/step - loss: 0.6922 - accuracy: 0.5419 - val_loss: 0.6911 - val_accuracy: 0.5333\n",
            "Epoch 120/4000\n",
            "1/1 [==============================] - 0s 299ms/step - loss: 0.6871 - accuracy: 0.5419 - val_loss: 0.6911 - val_accuracy: 0.5333\n",
            "Epoch 121/4000\n",
            "1/1 [==============================] - 0s 292ms/step - loss: 0.6968 - accuracy: 0.5363 - val_loss: 0.6910 - val_accuracy: 0.5333\n",
            "Epoch 122/4000\n",
            "1/1 [==============================] - 0s 309ms/step - loss: 0.6886 - accuracy: 0.5363 - val_loss: 0.6910 - val_accuracy: 0.5333\n",
            "Epoch 123/4000\n",
            "1/1 [==============================] - 0s 298ms/step - loss: 0.6864 - accuracy: 0.5363 - val_loss: 0.6910 - val_accuracy: 0.5333\n",
            "Epoch 124/4000\n",
            "1/1 [==============================] - 0s 297ms/step - loss: 0.6897 - accuracy: 0.5475 - val_loss: 0.6910 - val_accuracy: 0.5333\n",
            "Epoch 125/4000\n",
            "1/1 [==============================] - 0s 291ms/step - loss: 0.6949 - accuracy: 0.5307 - val_loss: 0.6910 - val_accuracy: 0.5333\n",
            "Epoch 126/4000\n",
            "1/1 [==============================] - 0s 299ms/step - loss: 0.6899 - accuracy: 0.5363 - val_loss: 0.6910 - val_accuracy: 0.5333\n"
          ],
          "name": "stdout"
        }
      ]
    },
    {
      "cell_type": "code",
      "metadata": {
        "id": "6NRw0R65wVq9"
      },
      "source": [
        "\n",
        "def save_hist():\n",
        "  filename = data_path + \"baseline_viridae_adam256_history.csv\"\n",
        "  hist_df = pd.DataFrame(hist.history) \n",
        "  with open(filename, mode='w') as f:\n",
        "    hist_df.to_csv(f)\n",
        "save_hist()"
      ],
      "execution_count": 13,
      "outputs": []
    },
    {
      "cell_type": "code",
      "metadata": {
        "id": "vC15X36ywjTF"
      },
      "source": [
        "model.save('/content/gdrive/My Drive/Colab Notebooks/models/' + \"baseline_viridae_adam256.h5\")"
      ],
      "execution_count": 14,
      "outputs": []
    },
    {
      "cell_type": "code",
      "metadata": {
        "id": "AjiRiXQHwNOS",
        "outputId": "1ea47014-493d-4e2a-fb9f-53c42d988c22",
        "colab": {
          "base_uri": "https://localhost:8080/",
          "height": 369
        }
      },
      "source": [
        "fig, axes = plt.subplots(1, 2, figsize=(10, 5))\n",
        "for i in range(1):\n",
        "  ax1 = axes[0]\n",
        "  ax2 = axes[1]\n",
        "\n",
        "  ax1.plot(hist.history['loss'], label='training')\n",
        "  ax1.plot(hist.history['val_loss'], label='validation')\n",
        "  ax1.set_title('lstm autoencoder loss')\n",
        "  ax1.set_xlabel('epoch')\n",
        "  ax1.set_ylabel('loss')\n",
        "  ax1.legend(['train', 'validation'], loc='upper left')\n",
        "  \n",
        "  ax2.plot(hist.history['accuracy'], label='training')\n",
        "  ax2.plot(hist.history['val_accuracy'], label='validation')\n",
        "  ax2.set_title('lstm autoencoder accuracy')\n",
        "  ax2.set_xlabel('epoch')\n",
        "  ax2.set_ylabel('accuracy')\n",
        "  ax2.legend(['train', 'validation'], loc='upper left')\n",
        "fig.tight_layout()"
      ],
      "execution_count": 15,
      "outputs": [
        {
          "output_type": "display_data",
          "data": {
            "image/png": "[encoded data removed]",
            "text/plain": [
              "<Figure size 720x360 with 2 Axes>"
            ]
          },
          "metadata": {
            "tags": [],
            "needs_background": "light"
          }
        }
      ]
    },
    {
      "cell_type": "code",
      "metadata": {
        "id": "6sgxZ6qrU9-9"
      },
      "source": [
        "def eval_model(model, ds, ds_name=\"Training\"):\n",
        "  loss, acc = model.evaluate(ds, verbose=0)\n",
        "  print(\"{} Dataset: loss = {} and acccuracy = {}%\".format(ds_name, np.round(loss, 3), np.round(acc*100, 2)))"
      ],
      "execution_count": 16,
      "outputs": []
    },
    {
      "cell_type": "code",
      "metadata": {
        "id": "YwcedsFqDUnm",
        "outputId": "89f3479b-ba40-4259-cc61-0975363d9591",
        "colab": {
          "base_uri": "https://localhost:8080/"
        }
      },
      "source": [
        "eval_model(model, xtrain_ds, \"Training\")\n",
        "eval_model(model, xval_ds, \"Validation\")\n",
        "eval_model(model, xtest_ds, \"Test\")"
      ],
      "execution_count": 17,
      "outputs": [
        {
          "output_type": "stream",
          "text": [
            "Training Dataset: loss = 0.69 and acccuracy = 54.19%\n",
            "Validation Dataset: loss = 0.691 and acccuracy = 53.33%\n",
            "Test Dataset: loss = 0.689 and acccuracy = 54.39%\n"
          ],
          "name": "stdout"
        }
      ]
    }
  ]
}
